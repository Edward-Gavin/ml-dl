{
  "metadata": {
    "kernelspec": {
      "display_name": "Python 3",
      "name": "python3"
    },
    "language_info": {
      "name": "python",
      "version": "3.10.12",
      "mimetype": "text/x-python",
      "codemirror_mode": {
        "name": "ipython",
        "version": 3
      },
      "pygments_lexer": "ipython3",
      "nbconvert_exporter": "python",
      "file_extension": ".py"
    },
    "kaggle": {
      "accelerator": "none",
      "dataSources": [
        {
          "sourceId": 3136,
          "databundleVersionId": 26502,
          "sourceType": "competition"
        }
      ],
      "dockerImageVersionId": 30918,
      "isInternetEnabled": false,
      "language": "python",
      "sourceType": "notebook",
      "isGpuEnabled": false
    },
    "colab": {
      "provenance": [],
      "gpuType": "T4",
      "include_colab_link": true
    },
    "accelerator": "GPU"
  },
  "nbformat_minor": 0,
  "nbformat": 4,
  "cells": [
    {
      "cell_type": "markdown",
      "metadata": {
        "id": "view-in-github",
        "colab_type": "text"
      },
      "source": [
        "<a href=\"https://colab.research.google.com/github/Edward-Gavin/ml-dl/blob/main/taitanic_lr_model.ipynb\" target=\"_parent\"><img src=\"https://colab.research.google.com/assets/colab-badge.svg\" alt=\"Open In Colab\"/></a>"
      ]
    },
    {
      "cell_type": "code",
      "source": [
        "!pip install torchkeras\n",
        "!pip install torchmetrics"
      ],
      "metadata": {
        "id": "n8nlLEUexEBH"
      },
      "execution_count": null,
      "outputs": []
    },
    {
      "cell_type": "markdown",
      "source": [
        "## 依赖导入"
      ],
      "metadata": {
        "id": "xtS5GsDEl6Z_"
      }
    },
    {
      "cell_type": "code",
      "source": [
        "import numpy as np\n",
        "import pandas as pd\n",
        "from torch import nn\n",
        "import torch\n",
        "from tqdm import tqdm\n",
        "import os,sys,time\n",
        "from torch.utils.data import Dataset,DataLoader,TensorDataset\n",
        "import matplotlib.pyplot as plt\n",
        "from torchkeras.metrics import Accuracy\n",
        "from copy import deepcopy\n",
        "from torchmetrics.classification import BinaryAUROC"
      ],
      "metadata": {
        "_uuid": "8f2839f25d086af736a60e9eeb907d3b93b6e0e5",
        "_cell_guid": "b1076dfc-b9ad-4769-8c92-a6c4dae69d19",
        "trusted": true,
        "execution": {
          "iopub.status.busy": "2025-03-21T03:07:44.766756Z",
          "iopub.execute_input": "2025-03-21T03:07:44.767155Z",
          "iopub.status.idle": "2025-03-21T03:07:44.771827Z",
          "shell.execute_reply.started": "2025-03-21T03:07:44.767109Z",
          "shell.execute_reply": "2025-03-21T03:07:44.770649Z"
        },
        "id": "_QjjxJ7H1J0s"
      },
      "outputs": [],
      "execution_count": null
    },
    {
      "cell_type": "code",
      "source": [
        "print(os.getcwd())"
      ],
      "metadata": {
        "colab": {
          "base_uri": "https://localhost:8080/"
        },
        "id": "EGE7gbJN1rgv",
        "outputId": "48d5875d-7d97-42ad-da54-00fa3a3be6c4"
      },
      "execution_count": null,
      "outputs": [
        {
          "output_type": "stream",
          "name": "stdout",
          "text": [
            "/content\n"
          ]
        }
      ]
    },
    {
      "cell_type": "markdown",
      "source": [
        "## 定义模型"
      ],
      "metadata": {
        "execution": {
          "iopub.status.busy": "2025-03-21T03:08:31.264061Z",
          "iopub.execute_input": "2025-03-21T03:08:31.264413Z",
          "iopub.status.idle": "2025-03-21T03:08:31.268543Z",
          "shell.execute_reply.started": "2025-03-21T03:08:31.264386Z",
          "shell.execute_reply": "2025-03-21T03:08:31.267384Z"
        },
        "id": "8tyVNPRf1J0t"
      }
    },
    {
      "cell_type": "code",
      "source": [
        "class Net(nn.Module):\n",
        "    def __init__(self):\n",
        "        super(Net, self).__init__()\n",
        "        self.model = nn.Sequential(\n",
        "            nn.Linear(15, 20),\n",
        "            nn.ReLU(),\n",
        "            nn.Linear(20,15),\n",
        "            nn.ReLU(),\n",
        "            nn.Linear(15,20),\n",
        "            nn.ReLU(),\n",
        "            nn.Linear(20,15),\n",
        "            nn.ReLU(),\n",
        "            nn.Linear(15, 1)\n",
        "        )\n",
        "        self.metrics = nn.ModuleList([BinaryAUROC()])\n",
        "\n",
        "    def forward(self, x):\n",
        "        return self.model(x)\n",
        "\n",
        "    def metric_update(self, predictions, labels):\n",
        "        self.metrics[0].update(predictions, labels)\n",
        "\n",
        "    def metric_fn(self):\n",
        "        metrics_outs = [met.compute().item() for met in self.metrics]\n",
        "        [met.reset() for met in self.metrics]\n",
        "        return metrics_outs"
      ],
      "metadata": {
        "trusted": true,
        "execution": {
          "iopub.status.busy": "2025-03-21T03:05:34.034397Z",
          "iopub.execute_input": "2025-03-21T03:05:34.034768Z",
          "iopub.status.idle": "2025-03-21T03:05:34.039771Z",
          "shell.execute_reply.started": "2025-03-21T03:05:34.034737Z",
          "shell.execute_reply": "2025-03-21T03:05:34.038729Z"
        },
        "id": "b9IvsywB1J0u"
      },
      "outputs": [],
      "execution_count": null
    },
    {
      "cell_type": "markdown",
      "source": [
        "## 加载数据"
      ],
      "metadata": {
        "id": "pfrmz-dF1J0u"
      }
    },
    {
      "cell_type": "code",
      "source": [
        "train_d = pd.read_csv(\"/content/sample_data/taitanic/train.csv\")\n",
        "predict_d = pd.read_csv(\"/content/sample_data/taitanic/test.csv\")\n",
        "\n",
        "train_data = train_d.head(int(891*0.8))\n",
        "test_data = train_d.tail(int(891*0.2))\n",
        "\n",
        "train_data"
      ],
      "metadata": {
        "trusted": true,
        "execution": {
          "iopub.status.busy": "2025-03-21T03:25:35.459579Z",
          "iopub.execute_input": "2025-03-21T03:25:35.459997Z",
          "iopub.status.idle": "2025-03-21T03:25:35.487845Z",
          "shell.execute_reply.started": "2025-03-21T03:25:35.459969Z",
          "shell.execute_reply": "2025-03-21T03:25:35.486710Z"
        },
        "id": "HgFZEkBQ1J0v"
      },
      "outputs": [],
      "execution_count": null
    },
    {
      "cell_type": "code",
      "source": [
        "test_data"
      ],
      "metadata": {
        "id": "1vrL8BXyWIlj"
      },
      "execution_count": null,
      "outputs": []
    },
    {
      "cell_type": "markdown",
      "source": [
        "## 查看数据"
      ],
      "metadata": {
        "id": "wykLyU5S1J0v"
      }
    },
    {
      "cell_type": "code",
      "source": [
        "%matplotlib inline\n",
        "%config InlineBackend.figure_format = 'png'\n",
        "ax = train_data['Survived'].value_counts().plot(kind = 'bar', figsize = (6,4),fontsize=7,rot = 0)\n",
        "ax.set_ylabel('Counts',fontsize = 7)\n",
        "ax.set_xlabel('Survived',fontsize = 7)\n",
        "plt.show()"
      ],
      "metadata": {
        "trusted": true,
        "execution": {
          "iopub.status.busy": "2025-03-21T03:10:23.908348Z",
          "iopub.execute_input": "2025-03-21T03:10:23.908696Z",
          "iopub.status.idle": "2025-03-21T03:10:24.042507Z",
          "shell.execute_reply.started": "2025-03-21T03:10:23.908668Z",
          "shell.execute_reply": "2025-03-21T03:10:24.041529Z"
        },
        "id": "pgdLz0CC1J0v"
      },
      "outputs": [],
      "execution_count": null
    },
    {
      "cell_type": "code",
      "source": [
        "%matplotlib inline\n",
        "%config InlineBackend.figure_format='png'\n",
        "age = train_data['Age'].plot(kind='hist', bins=20, figsize=(6,4), fontsize=7, rot=0)\n",
        "age.set_ylabel('Frequency', fontsize=7)\n",
        "age.set_xlabel('Age', fontsize=7)\n",
        "plt.show()"
      ],
      "metadata": {
        "trusted": true,
        "execution": {
          "iopub.status.busy": "2025-03-21T03:16:01.830542Z",
          "iopub.execute_input": "2025-03-21T03:16:01.830930Z",
          "iopub.status.idle": "2025-03-21T03:16:02.025139Z",
          "shell.execute_reply.started": "2025-03-21T03:16:01.830892Z",
          "shell.execute_reply": "2025-03-21T03:16:02.024118Z"
        },
        "id": "WFxkgHhj1J0w"
      },
      "outputs": [],
      "execution_count": null
    },
    {
      "cell_type": "code",
      "source": [
        "%matplotlib inline\n",
        "%config InlineBackend.figure_format = 'png'\n",
        "ax = train_data.query('Survived == 0')['Age'].plot(kind = 'density', figsize = (6,4),fontsize=7)\n",
        "train_data.query('Survived == 1')['Age'].plot(kind = 'density', figsize = (6,4),fontsize=7)\n",
        "ax.legend(['Survived==0','Survived==1'],fontsize = 7)\n",
        "ax.set_ylabel('Density',fontsize = 7)\n",
        "ax.set_xlabel('Age',fontsize = 7)\n",
        "plt.show()"
      ],
      "metadata": {
        "trusted": true,
        "execution": {
          "iopub.status.busy": "2025-03-21T03:17:50.941372Z",
          "iopub.execute_input": "2025-03-21T03:17:50.941916Z",
          "iopub.status.idle": "2025-03-21T03:17:51.195726Z",
          "shell.execute_reply.started": "2025-03-21T03:17:50.941884Z",
          "shell.execute_reply": "2025-03-21T03:17:51.194669Z"
        },
        "id": "-66dYoFr1J0w"
      },
      "outputs": [],
      "execution_count": null
    },
    {
      "cell_type": "markdown",
      "source": [
        "## 数据预处理"
      ],
      "metadata": {
        "id": "Mg83oaVK1J0w"
      }
    },
    {
      "cell_type": "code",
      "source": [
        "def preprocessing(dfdata):\n",
        "\n",
        "    dfresult= pd.DataFrame()\n",
        "\n",
        "    #Pclass\n",
        "    dfPclass = pd.get_dummies(dfdata['Pclass']).astype(float)\n",
        "    dfPclass.columns = ['Pclass_' +str(x) for x in dfPclass.columns ]\n",
        "    dfresult = pd.concat([dfresult,dfPclass],axis = 1)\n",
        "\n",
        "    #Sex\n",
        "    dfSex = pd.get_dummies(dfdata['Sex']).astype(float)\n",
        "    dfresult = pd.concat([dfresult,dfSex],axis = 1)\n",
        "\n",
        "    #Age\n",
        "    dfresult['Age'] = dfdata['Age'].fillna(0)\n",
        "    dfresult['Age_null'] = pd.isna(dfdata['Age']).astype(float)\n",
        "\n",
        "    #SibSp,Parch,Fare\n",
        "    dfresult['SibSp'] = dfdata['SibSp']\n",
        "    dfresult['Parch'] = dfdata['Parch']\n",
        "    dfresult['Fare'] = dfdata['Fare']\n",
        "\n",
        "    #Carbin\n",
        "    dfresult['Cabin_null'] =  pd.isna(dfdata['Cabin']).astype(float)\n",
        "\n",
        "    #Embarked\n",
        "    dfEmbarked = pd.get_dummies(dfdata['Embarked'],dummy_na=True).astype(float)\n",
        "    dfEmbarked.columns = ['Embarked_' + str(x) for x in dfEmbarked.columns]\n",
        "    dfresult = pd.concat([dfresult,dfEmbarked],axis = 1)\n",
        "\n",
        "    return(dfresult)"
      ],
      "metadata": {
        "trusted": true,
        "execution": {
          "iopub.status.busy": "2025-03-21T03:19:44.988515Z",
          "iopub.execute_input": "2025-03-21T03:19:44.988923Z",
          "iopub.status.idle": "2025-03-21T03:19:44.996484Z",
          "shell.execute_reply.started": "2025-03-21T03:19:44.988892Z",
          "shell.execute_reply": "2025-03-21T03:19:44.995215Z"
        },
        "id": "FVNK9CS91J0w"
      },
      "outputs": [],
      "execution_count": null
    },
    {
      "cell_type": "code",
      "source": [
        "x_train = preprocessing(train_data).values\n",
        "y_train = train_data[['Survived']].values\n",
        "dl_train = DataLoader(TensorDataset(torch.tensor(x_train).float(),torch.tensor(y_train).float()), shuffle=True, batch_size=36)\n",
        "\n",
        "x_test = preprocessing(test_data).values\n",
        "y_test = test_data[['Survived']].values\n",
        "dl_test = DataLoader(TensorDataset(torch.tensor(x_test).float(), torch.tensor(y_test).float()), shuffle=False, batch_size=9)"
      ],
      "metadata": {
        "trusted": true,
        "execution": {
          "iopub.status.busy": "2025-03-21T03:32:13.880066Z",
          "iopub.execute_input": "2025-03-21T03:32:13.880479Z",
          "iopub.status.idle": "2025-03-21T03:32:13.902983Z",
          "shell.execute_reply.started": "2025-03-21T03:32:13.880450Z",
          "shell.execute_reply": "2025-03-21T03:32:13.901976Z"
        },
        "id": "mLZW4YdM1J0w"
      },
      "outputs": [],
      "execution_count": null
    },
    {
      "cell_type": "code",
      "source": [
        "print(x_train.shape)\n",
        "print(x_test.shape)"
      ],
      "metadata": {
        "colab": {
          "base_uri": "https://localhost:8080/"
        },
        "id": "V1wrOwX7cYjt",
        "outputId": "e131917d-6c09-44ba-ca63-994adef9e67a"
      },
      "execution_count": null,
      "outputs": [
        {
          "output_type": "stream",
          "name": "stdout",
          "text": [
            "(712, 15)\n",
            "(178, 15)\n"
          ]
        }
      ]
    },
    {
      "cell_type": "code",
      "source": [
        "print(dl_train.batch_size)\n",
        "print(dl_test.batch_size)"
      ],
      "metadata": {
        "colab": {
          "base_uri": "https://localhost:8080/"
        },
        "id": "Bzz4Fh6wczlY",
        "outputId": "e56ce31c-95ce-4aee-a582-212b1922ca56"
      },
      "execution_count": null,
      "outputs": [
        {
          "output_type": "stream",
          "name": "stdout",
          "text": [
            "36\n",
            "9\n"
          ]
        }
      ]
    },
    {
      "cell_type": "markdown",
      "source": [
        "## 训练和测试"
      ],
      "metadata": {
        "id": "HAty79IdmErA"
      }
    },
    {
      "cell_type": "code",
      "source": [
        "# 模型定义\n",
        "model = Net()\n",
        "loss_fn = nn.BCEWithLogitsLoss()\n",
        "optimizer= torch.optim.Adam(model.parameters(),lr = 0.005)\n",
        "\n",
        "# metrics\n",
        "\n",
        "\n",
        "history = {}\n",
        "\n",
        "epochs = 20\n",
        "\n",
        "\n",
        "for i in range(epochs):\n",
        "    # 训练\n",
        "    model.train()\n",
        "\n",
        "    train_total_loss = 0\n",
        "    train_step = 0\n",
        "    train_auc = 0\n",
        "\n",
        "    loop = tqdm(enumerate(dl_train), total =len(dl_train),file = sys.stdout)\n",
        "\n",
        "    print(\"第{}轮训练开始\".format(i + 1))\n",
        "    for index, data in loop:\n",
        "        features, labels = data\n",
        "        preds = model(features)\n",
        "\n",
        "        model.metric_update(preds, labels)\n",
        "        metrics_outs = model.metric_fn()\n",
        "\n",
        "        train_auc += metrics_outs[0]\n",
        "\n",
        "\n",
        "        # metrics_str = ' '.join([\"Metric%d : %.3f\" % (i, met) for i, met in enumerate(metrics_outs)])\n",
        "        # print('=========================Training Epoch: %d %s ======================' % (train_step, metrics_str))\n",
        "\n",
        "        loss = loss_fn(preds, labels)\n",
        "\n",
        "        #backward\n",
        "        loss.backward()\n",
        "        optimizer.step()\n",
        "        optimizer.zero_grad()\n",
        "\n",
        "        train_step += 1\n",
        "        train_total_loss += loss.item()\n",
        "\n",
        "        if train_step % 20 == 0:\n",
        "            print(\"训练次数:{}, train total loss: {}, auc: {}\".format(train_step, train_total_loss, train_auc / 20))\n",
        "            train_auc = 0\n",
        "\n",
        "\n",
        "    # 测试\n",
        "    model.eval()\n",
        "\n",
        "    test_total_loss = 0\n",
        "    test_step = 0\n",
        "    test_auc = 0\n",
        "    loop = tqdm(enumerate(dl_test), total =len(dl_test),file = sys.stdout)\n",
        "    print(\"第{}轮测试开始\".format(i+1))\n",
        "\n",
        "    with torch.no_grad():\n",
        "        for i, batch in loop:\n",
        "            features, labels = batch\n",
        "            #forward\n",
        "            preds = model(features)\n",
        "\n",
        "            model.metric_update(preds, labels)\n",
        "            metrics_outs = model.metric_fn()\n",
        "\n",
        "            test_auc += metrics_outs[0]\n",
        "\n",
        "            # metrics_str = ' '.join([\"Metric%d : %.3f\" % (i, met) for i, met in enumerate(metrics_outs)])\n",
        "            # print('=========================Training Epoch: %d %s ======================' % (test_step, metrics_str))\n",
        "\n",
        "            loss = loss_fn(preds, labels)\n",
        "\n",
        "            test_total_loss += loss.item()\n",
        "            test_step += 1\n",
        "            if test_step % 20 == 0:\n",
        "                print(\"测试次数: {}, test total loss: {}, auc: {}\".format(test_step, test_total_loss, test_auc/20))\n",
        "                test_auc = 0\n",
        "\n",
        "\n",
        "    print(\"========================================\")"
      ],
      "metadata": {
        "trusted": true,
        "id": "n9iWDp141J0x"
      },
      "outputs": [],
      "execution_count": null
    },
    {
      "cell_type": "markdown",
      "source": [
        "## 评估模型"
      ],
      "metadata": {
        "id": "KV73PQzQf5t9"
      }
    },
    {
      "cell_type": "code",
      "source": [],
      "metadata": {
        "id": "NnH7nIfzlVul"
      },
      "execution_count": null,
      "outputs": []
    },
    {
      "cell_type": "markdown",
      "source": [
        "## 模型预测"
      ],
      "metadata": {
        "id": "LzPN5wYtlMFG"
      }
    },
    {
      "cell_type": "code",
      "source": [
        "# 数据处理\n",
        "pred_data = preprocessing(predict_d).values\n",
        "\n",
        "# 预测\n",
        "y_pred_probs = torch.sigmoid(model(torch.tensor(pred_data).float())).data\n",
        "y_pred = torch.where(y_pred_probs>0.5, torch.ones_like(y_pred_probs),torch.zeros_like(y_pred_probs))"
      ],
      "metadata": {
        "id": "P9tiAtoehhMJ"
      },
      "execution_count": null,
      "outputs": []
    },
    {
      "cell_type": "code",
      "source": [
        "# 预测导出\n",
        "predictions = y_pred.t().numpy()[0]\n",
        "predictions = pd.Series(predictions, dtype=np.int64)\n",
        "output = pd.DataFrame({'PassengerId': predict_d.PassengerId, 'Survived': predictions})\n",
        "output.to_csv('submission.csv', index=False)\n",
        "print(\"Your submission was successfully saved!\")"
      ],
      "metadata": {
        "trusted": true,
        "execution": {
          "iopub.status.busy": "2025-03-17T13:00:33.147124Z",
          "iopub.execute_input": "2025-03-17T13:00:33.147510Z",
          "iopub.status.idle": "2025-03-17T13:00:33.157729Z",
          "shell.execute_reply.started": "2025-03-17T13:00:33.147478Z",
          "shell.execute_reply": "2025-03-17T13:00:33.156786Z"
        },
        "colab": {
          "base_uri": "https://localhost:8080/"
        },
        "id": "MFZ2KBNC1J0x",
        "outputId": "138c4dd5-6162-4edf-c822-7917d24c04dd"
      },
      "outputs": [
        {
          "output_type": "stream",
          "name": "stdout",
          "text": [
            "Your submission was successfully saved!\n"
          ]
        }
      ],
      "execution_count": null
    },
    {
      "cell_type": "markdown",
      "source": [
        "## 模型保存与加载"
      ],
      "metadata": {
        "id": "0ArW8YYVjPsg"
      }
    },
    {
      "cell_type": "code",
      "source": [
        "# 查看模型参数\n",
        "print(model.state_dict().keys())\n",
        "\n",
        "# 1. 保存模型参数\n",
        "torch.save(model.state_dict(), \"./taitanic_lr_model.pt\")\n",
        "\n",
        "model_clone = Net()\n",
        "model_clone.load_state_dict(torch.load(\"./taitanic_lr_model.pt\", weights_only=True))\n",
        "a = torch.sigmoid(model_clone.forward(torch.tensor(x_test[0:10]).float())).data\n",
        "print(a)\n",
        "\n",
        "# 2. 保存完整模型\n",
        "torch.save(model, \"./taitanic_lr_model_all.pt\")\n",
        "model_clone_2 = torch.load(\"./taitanic_lr_model_all.pt\", weights_only=False)\n",
        "b = torch.sigmoid(model_clone_2.forward(torch.tensor(x_test[0:10]).float())).data\n",
        "print(b)"
      ],
      "metadata": {
        "id": "0ONUb9DPit6X"
      },
      "execution_count": null,
      "outputs": []
    }
  ]
}